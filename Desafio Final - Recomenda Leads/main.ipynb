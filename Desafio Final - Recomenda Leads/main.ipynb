{
 "cells": [
  {
   "cell_type": "markdown",
   "metadata": {},
   "source": [
    "# Exploração de Dados Projeto Final"
   ]
  },
  {
   "cell_type": "markdown",
   "metadata": {},
   "source": [
    "### Importando bibliotecas"
   ]
  },
  {
   "cell_type": "code",
   "execution_count": 1,
   "metadata": {},
   "outputs": [],
   "source": [
    "import numpy as np\n",
    "import pandas as pd\n",
    "from pandas import DataFrame\n",
    "import scipy.stats as stats\n",
    "import matplotlib.pyplot as plt\n",
    "from sklearn.preprocessing import LabelEncoder\n",
    "from sklearn.cluster import KMeans\n",
    "\n"
   ]
  },
  {
   "cell_type": "markdown",
   "metadata": {},
   "source": [
    "### Importando DATASETs"
   ]
  },
  {
   "cell_type": "markdown",
   "metadata": {},
   "source": [
    "#### Lendo DATASET"
   ]
  },
  {
   "cell_type": "markdown",
   "metadata": {},
   "source": [
    "##### Criando um dicionário(features_types) para alterar o tipo do dtype de float64 para float16"
   ]
  },
  {
   "cell_type": "code",
   "execution_count": 2,
   "metadata": {},
   "outputs": [],
   "source": [
    "features = pd.read_csv('features_dictionary.csv')"
   ]
  },
  {
   "cell_type": "code",
   "execution_count": 3,
   "metadata": {},
   "outputs": [],
   "source": [
    "features = features.query('Dtype_Ajustado == \"int16\" or Dtype_Ajustado == \"float16\"')"
   ]
  },
  {
   "cell_type": "code",
   "execution_count": 4,
   "metadata": {},
   "outputs": [],
   "source": [
    "features_types = dict(list(features[['Column','Dtype_Ajustado']].values))"
   ]
  },
  {
   "cell_type": "markdown",
   "metadata": {},
   "source": [
    "##### DataFrame principal"
   ]
  },
  {
   "cell_type": "code",
   "execution_count": 5,
   "metadata": {},
   "outputs": [],
   "source": [
    "df = pd.read_csv('estaticos_market.csv', dtype= features_types, error_bad_lines=False)"
   ]
  },
  {
   "cell_type": "code",
   "execution_count": 6,
   "metadata": {},
   "outputs": [
    {
     "name": "stdout",
     "output_type": "stream",
     "text": [
      "<class 'pandas.core.frame.DataFrame'>\n",
      "RangeIndex: 462298 entries, 0 to 462297\n",
      "Columns: 182 entries, Unnamed: 0 to qt_filiais\n",
      "dtypes: bool(9), float16(134), float64(10), int16(2), object(27)\n",
      "memory usage: 206.8+ MB\n"
     ]
    }
   ],
   "source": [
    "df.info()"
   ]
  },
  {
   "cell_type": "code",
   "execution_count": 7,
   "metadata": {},
   "outputs": [
    {
     "data": {
      "text/plain": [
       "(462298, 182)"
      ]
     },
     "execution_count": 7,
     "metadata": {},
     "output_type": "execute_result"
    }
   ],
   "source": [
    "df.shape"
   ]
  },
  {
   "cell_type": "code",
   "execution_count": 8,
   "metadata": {},
   "outputs": [
    {
     "data": {
      "text/html": [
       "<div>\n",
       "<style scoped>\n",
       "    .dataframe tbody tr th:only-of-type {\n",
       "        vertical-align: middle;\n",
       "    }\n",
       "\n",
       "    .dataframe tbody tr th {\n",
       "        vertical-align: top;\n",
       "    }\n",
       "\n",
       "    .dataframe thead th {\n",
       "        text-align: right;\n",
       "    }\n",
       "</style>\n",
       "<table border=\"1\" class=\"dataframe\">\n",
       "  <thead>\n",
       "    <tr style=\"text-align: right;\">\n",
       "      <th></th>\n",
       "      <th>Unnamed: 0</th>\n",
       "      <th>id</th>\n",
       "      <th>fl_matriz</th>\n",
       "      <th>de_natureza_juridica</th>\n",
       "      <th>sg_uf</th>\n",
       "      <th>natureza_juridica_macro</th>\n",
       "      <th>de_ramo</th>\n",
       "      <th>setor</th>\n",
       "      <th>idade_empresa_anos</th>\n",
       "      <th>idade_emp_cat</th>\n",
       "      <th>...</th>\n",
       "      <th>media_meses_servicos</th>\n",
       "      <th>max_meses_servicos</th>\n",
       "      <th>min_meses_servicos</th>\n",
       "      <th>qt_funcionarios</th>\n",
       "      <th>qt_funcionarios_12meses</th>\n",
       "      <th>qt_funcionarios_24meses</th>\n",
       "      <th>tx_crescimento_12meses</th>\n",
       "      <th>tx_crescimento_24meses</th>\n",
       "      <th>tx_rotatividade</th>\n",
       "      <th>qt_filiais</th>\n",
       "    </tr>\n",
       "  </thead>\n",
       "  <tbody>\n",
       "    <tr>\n",
       "      <th>0</th>\n",
       "      <td>0</td>\n",
       "      <td>a6984c3ae395090e3bee8ad63c3758b110de096d5d8195...</td>\n",
       "      <td>True</td>\n",
       "      <td>SOCIEDADE EMPRESARIA LIMITADA</td>\n",
       "      <td>RN</td>\n",
       "      <td>ENTIDADES EMPRESARIAIS</td>\n",
       "      <td>INDUSTRIA DA CONSTRUCAO</td>\n",
       "      <td>CONSTRUÇÃO CIVIL</td>\n",
       "      <td>14.460938</td>\n",
       "      <td>10 a 15</td>\n",
       "      <td>...</td>\n",
       "      <td>43.75</td>\n",
       "      <td>93.25</td>\n",
       "      <td>19.171875</td>\n",
       "      <td>26.0</td>\n",
       "      <td>26.0</td>\n",
       "      <td>27.0</td>\n",
       "      <td>0.0</td>\n",
       "      <td>-3.703125</td>\n",
       "      <td>0.0</td>\n",
       "      <td>0</td>\n",
       "    </tr>\n",
       "    <tr>\n",
       "      <th>1</th>\n",
       "      <td>1</td>\n",
       "      <td>6178f41ade1365e44bc2c46654c2c8c0eaae27dcb476c4...</td>\n",
       "      <td>True</td>\n",
       "      <td>EMPRESARIO INDIVIDUAL</td>\n",
       "      <td>PI</td>\n",
       "      <td>OUTROS</td>\n",
       "      <td>SERVICOS DE ALOJAMENTO/ALIMENTACAO</td>\n",
       "      <td>SERVIÇO</td>\n",
       "      <td>1.462891</td>\n",
       "      <td>1 a 5</td>\n",
       "      <td>...</td>\n",
       "      <td>NaN</td>\n",
       "      <td>NaN</td>\n",
       "      <td>NaN</td>\n",
       "      <td>NaN</td>\n",
       "      <td>NaN</td>\n",
       "      <td>NaN</td>\n",
       "      <td>NaN</td>\n",
       "      <td>NaN</td>\n",
       "      <td>NaN</td>\n",
       "      <td>0</td>\n",
       "    </tr>\n",
       "    <tr>\n",
       "      <th>2</th>\n",
       "      <td>2</td>\n",
       "      <td>4a7e5069a397f12fdd7fd57111d6dc5d3ba558958efc02...</td>\n",
       "      <td>True</td>\n",
       "      <td>EMPRESARIO INDIVIDUAL</td>\n",
       "      <td>AM</td>\n",
       "      <td>OUTROS</td>\n",
       "      <td>TRANSPORTE, ARMAZENAGEM E CORREIO</td>\n",
       "      <td>SERVIÇO</td>\n",
       "      <td>7.093750</td>\n",
       "      <td>5 a 10</td>\n",
       "      <td>...</td>\n",
       "      <td>NaN</td>\n",
       "      <td>NaN</td>\n",
       "      <td>NaN</td>\n",
       "      <td>NaN</td>\n",
       "      <td>NaN</td>\n",
       "      <td>NaN</td>\n",
       "      <td>NaN</td>\n",
       "      <td>NaN</td>\n",
       "      <td>NaN</td>\n",
       "      <td>0</td>\n",
       "    </tr>\n",
       "    <tr>\n",
       "      <th>3</th>\n",
       "      <td>3</td>\n",
       "      <td>3348900fe63216a439d2e5238c79ddd46ede454df7b9d8...</td>\n",
       "      <td>True</td>\n",
       "      <td>EMPRESARIO INDIVIDUAL</td>\n",
       "      <td>AM</td>\n",
       "      <td>OUTROS</td>\n",
       "      <td>SERVICOS DIVERSOS</td>\n",
       "      <td>SERVIÇO</td>\n",
       "      <td>6.511719</td>\n",
       "      <td>5 a 10</td>\n",
       "      <td>...</td>\n",
       "      <td>NaN</td>\n",
       "      <td>NaN</td>\n",
       "      <td>NaN</td>\n",
       "      <td>NaN</td>\n",
       "      <td>NaN</td>\n",
       "      <td>NaN</td>\n",
       "      <td>NaN</td>\n",
       "      <td>NaN</td>\n",
       "      <td>NaN</td>\n",
       "      <td>0</td>\n",
       "    </tr>\n",
       "    <tr>\n",
       "      <th>4</th>\n",
       "      <td>4</td>\n",
       "      <td>1f9bcabc9d3173c1fe769899e4fac14b053037b953a1e4...</td>\n",
       "      <td>True</td>\n",
       "      <td>EMPRESARIO INDIVIDUAL</td>\n",
       "      <td>RN</td>\n",
       "      <td>OUTROS</td>\n",
       "      <td>SERVICOS PROFISSIONAIS, TECNICOS E CIENTIFICOS</td>\n",
       "      <td>SERVIÇO</td>\n",
       "      <td>3.199219</td>\n",
       "      <td>1 a 5</td>\n",
       "      <td>...</td>\n",
       "      <td>NaN</td>\n",
       "      <td>NaN</td>\n",
       "      <td>NaN</td>\n",
       "      <td>NaN</td>\n",
       "      <td>NaN</td>\n",
       "      <td>NaN</td>\n",
       "      <td>NaN</td>\n",
       "      <td>NaN</td>\n",
       "      <td>NaN</td>\n",
       "      <td>0</td>\n",
       "    </tr>\n",
       "  </tbody>\n",
       "</table>\n",
       "<p>5 rows × 182 columns</p>\n",
       "</div>"
      ],
      "text/plain": [
       "   Unnamed: 0                                                 id  fl_matriz  \\\n",
       "0           0  a6984c3ae395090e3bee8ad63c3758b110de096d5d8195...       True   \n",
       "1           1  6178f41ade1365e44bc2c46654c2c8c0eaae27dcb476c4...       True   \n",
       "2           2  4a7e5069a397f12fdd7fd57111d6dc5d3ba558958efc02...       True   \n",
       "3           3  3348900fe63216a439d2e5238c79ddd46ede454df7b9d8...       True   \n",
       "4           4  1f9bcabc9d3173c1fe769899e4fac14b053037b953a1e4...       True   \n",
       "\n",
       "            de_natureza_juridica sg_uf natureza_juridica_macro  \\\n",
       "0  SOCIEDADE EMPRESARIA LIMITADA    RN  ENTIDADES EMPRESARIAIS   \n",
       "1          EMPRESARIO INDIVIDUAL    PI                  OUTROS   \n",
       "2          EMPRESARIO INDIVIDUAL    AM                  OUTROS   \n",
       "3          EMPRESARIO INDIVIDUAL    AM                  OUTROS   \n",
       "4          EMPRESARIO INDIVIDUAL    RN                  OUTROS   \n",
       "\n",
       "                                          de_ramo             setor  \\\n",
       "0                         INDUSTRIA DA CONSTRUCAO  CONSTRUÇÃO CIVIL   \n",
       "1              SERVICOS DE ALOJAMENTO/ALIMENTACAO           SERVIÇO   \n",
       "2               TRANSPORTE, ARMAZENAGEM E CORREIO           SERVIÇO   \n",
       "3                               SERVICOS DIVERSOS           SERVIÇO   \n",
       "4  SERVICOS PROFISSIONAIS, TECNICOS E CIENTIFICOS           SERVIÇO   \n",
       "\n",
       "   idade_empresa_anos idade_emp_cat  ...  media_meses_servicos  \\\n",
       "0           14.460938       10 a 15  ...                 43.75   \n",
       "1            1.462891         1 a 5  ...                   NaN   \n",
       "2            7.093750        5 a 10  ...                   NaN   \n",
       "3            6.511719        5 a 10  ...                   NaN   \n",
       "4            3.199219         1 a 5  ...                   NaN   \n",
       "\n",
       "   max_meses_servicos  min_meses_servicos  qt_funcionarios  \\\n",
       "0               93.25           19.171875             26.0   \n",
       "1                 NaN                 NaN              NaN   \n",
       "2                 NaN                 NaN              NaN   \n",
       "3                 NaN                 NaN              NaN   \n",
       "4                 NaN                 NaN              NaN   \n",
       "\n",
       "   qt_funcionarios_12meses qt_funcionarios_24meses  tx_crescimento_12meses  \\\n",
       "0                     26.0                    27.0                     0.0   \n",
       "1                      NaN                     NaN                     NaN   \n",
       "2                      NaN                     NaN                     NaN   \n",
       "3                      NaN                     NaN                     NaN   \n",
       "4                      NaN                     NaN                     NaN   \n",
       "\n",
       "   tx_crescimento_24meses  tx_rotatividade qt_filiais  \n",
       "0               -3.703125              0.0          0  \n",
       "1                     NaN              NaN          0  \n",
       "2                     NaN              NaN          0  \n",
       "3                     NaN              NaN          0  \n",
       "4                     NaN              NaN          0  \n",
       "\n",
       "[5 rows x 182 columns]"
      ]
     },
     "execution_count": 8,
     "metadata": {},
     "output_type": "execute_result"
    }
   ],
   "source": [
    "df.head()"
   ]
  },
  {
   "cell_type": "markdown",
   "metadata": {},
   "source": [
    "##### DataFrames auxiliares"
   ]
  },
  {
   "cell_type": "code",
   "execution_count": 9,
   "metadata": {},
   "outputs": [],
   "source": [
    "df1 = pd.read_csv('estaticos_portfolio1.csv', usecols=['id'])\n",
    "df2 = pd.read_csv('estaticos_portfolio2.csv', usecols=['id'])\n",
    "df3 = pd.read_csv('estaticos_portfolio3.csv', usecols=['id'])"
   ]
  },
  {
   "cell_type": "code",
   "execution_count": 10,
   "metadata": {},
   "outputs": [
    {
     "data": {
      "text/html": [
       "<div>\n",
       "<style scoped>\n",
       "    .dataframe tbody tr th:only-of-type {\n",
       "        vertical-align: middle;\n",
       "    }\n",
       "\n",
       "    .dataframe tbody tr th {\n",
       "        vertical-align: top;\n",
       "    }\n",
       "\n",
       "    .dataframe thead th {\n",
       "        text-align: right;\n",
       "    }\n",
       "</style>\n",
       "<table border=\"1\" class=\"dataframe\">\n",
       "  <thead>\n",
       "    <tr style=\"text-align: right;\">\n",
       "      <th></th>\n",
       "      <th>id</th>\n",
       "    </tr>\n",
       "  </thead>\n",
       "  <tbody>\n",
       "    <tr>\n",
       "      <th>0</th>\n",
       "      <td>dabe79bec87c88ae04e869bf6bd321ee5e1893cecf6625...</td>\n",
       "    </tr>\n",
       "  </tbody>\n",
       "</table>\n",
       "</div>"
      ],
      "text/plain": [
       "                                                  id\n",
       "0  dabe79bec87c88ae04e869bf6bd321ee5e1893cecf6625..."
      ]
     },
     "execution_count": 10,
     "metadata": {},
     "output_type": "execute_result"
    }
   ],
   "source": [
    "df1.head(1)"
   ]
  },
  {
   "cell_type": "code",
   "execution_count": 11,
   "metadata": {},
   "outputs": [
    {
     "data": {
      "text/html": [
       "<div>\n",
       "<style scoped>\n",
       "    .dataframe tbody tr th:only-of-type {\n",
       "        vertical-align: middle;\n",
       "    }\n",
       "\n",
       "    .dataframe tbody tr th {\n",
       "        vertical-align: top;\n",
       "    }\n",
       "\n",
       "    .dataframe thead th {\n",
       "        text-align: right;\n",
       "    }\n",
       "</style>\n",
       "<table border=\"1\" class=\"dataframe\">\n",
       "  <thead>\n",
       "    <tr style=\"text-align: right;\">\n",
       "      <th></th>\n",
       "      <th>id</th>\n",
       "    </tr>\n",
       "  </thead>\n",
       "  <tbody>\n",
       "    <tr>\n",
       "      <th>0</th>\n",
       "      <td>09e95c1a84049001d086470a8f320a19b076f955a89122...</td>\n",
       "    </tr>\n",
       "  </tbody>\n",
       "</table>\n",
       "</div>"
      ],
      "text/plain": [
       "                                                  id\n",
       "0  09e95c1a84049001d086470a8f320a19b076f955a89122..."
      ]
     },
     "execution_count": 11,
     "metadata": {},
     "output_type": "execute_result"
    }
   ],
   "source": [
    "df2.head(1)"
   ]
  },
  {
   "cell_type": "code",
   "execution_count": 12,
   "metadata": {},
   "outputs": [
    {
     "data": {
      "text/html": [
       "<div>\n",
       "<style scoped>\n",
       "    .dataframe tbody tr th:only-of-type {\n",
       "        vertical-align: middle;\n",
       "    }\n",
       "\n",
       "    .dataframe tbody tr th {\n",
       "        vertical-align: top;\n",
       "    }\n",
       "\n",
       "    .dataframe thead th {\n",
       "        text-align: right;\n",
       "    }\n",
       "</style>\n",
       "<table border=\"1\" class=\"dataframe\">\n",
       "  <thead>\n",
       "    <tr style=\"text-align: right;\">\n",
       "      <th></th>\n",
       "      <th>id</th>\n",
       "    </tr>\n",
       "  </thead>\n",
       "  <tbody>\n",
       "    <tr>\n",
       "      <th>0</th>\n",
       "      <td>bb61c09449a1c1f8b78955d8b7a7f73599e78358993fe2...</td>\n",
       "    </tr>\n",
       "  </tbody>\n",
       "</table>\n",
       "</div>"
      ],
      "text/plain": [
       "                                                  id\n",
       "0  bb61c09449a1c1f8b78955d8b7a7f73599e78358993fe2..."
      ]
     },
     "execution_count": 12,
     "metadata": {},
     "output_type": "execute_result"
    }
   ],
   "source": [
    "df3.head(1)"
   ]
  },
  {
   "cell_type": "code",
   "execution_count": 13,
   "metadata": {},
   "outputs": [
    {
     "data": {
      "text/plain": [
       "Index(['Unnamed: 0', 'id', 'fl_matriz', 'de_natureza_juridica', 'sg_uf',\n",
       "       'natureza_juridica_macro', 'de_ramo', 'setor', 'idade_empresa_anos',\n",
       "       'idade_emp_cat',\n",
       "       ...\n",
       "       'media_meses_servicos', 'max_meses_servicos', 'min_meses_servicos',\n",
       "       'qt_funcionarios', 'qt_funcionarios_12meses', 'qt_funcionarios_24meses',\n",
       "       'tx_crescimento_12meses', 'tx_crescimento_24meses', 'tx_rotatividade',\n",
       "       'qt_filiais'],\n",
       "      dtype='object', length=182)"
      ]
     },
     "execution_count": 13,
     "metadata": {},
     "output_type": "execute_result"
    }
   ],
   "source": [
    "df.columns"
   ]
  },
  {
   "cell_type": "markdown",
   "metadata": {},
   "source": [
    "#### Analise de colunas nulas"
   ]
  },
  {
   "cell_type": "markdown",
   "metadata": {},
   "source": [
    "##### As colunas com todos os dados nulos não tem nenhuma relevância para a análise"
   ]
  },
  {
   "cell_type": "code",
   "execution_count": 14,
   "metadata": {},
   "outputs": [
    {
     "name": "stdout",
     "output_type": "stream",
     "text": [
      "Existem 5 São elas ['qt_alteracao_socio_total', 'qt_alteracao_socio_90d', 'qt_alteracao_socio_180d', 'qt_alteracao_socio_365d', 'grau_instrucao_macro_desconhecido']\n"
     ]
    }
   ],
   "source": [
    "colunas_nulas = df.isna().sum()\n",
    "colunas_nulas = colunas_nulas[colunas_nulas.isin([df.shape[0]])]\n",
    "lista_colunas_nulas = list(colunas_nulas.index)\n",
    "qtd_lista_colunas_nulas = len(list(colunas_nulas.index))\n",
    "print('Existem', qtd_lista_colunas_nulas, 'São elas', lista_colunas_nulas)"
   ]
  },
  {
   "cell_type": "code",
   "execution_count": 15,
   "metadata": {},
   "outputs": [
    {
     "name": "stdout",
     "output_type": "stream",
     "text": [
      "O novo shape é (462298, 177)\n"
     ]
    }
   ],
   "source": [
    "# Eliminando as colunas com todas as observações nulas\n",
    "df.drop(columns=lista_colunas_nulas, inplace=True)\n",
    "print('O novo shape é', df.shape)"
   ]
  },
  {
   "cell_type": "markdown",
   "metadata": {},
   "source": [
    "##### As colunas com mais de 50% dos dados nulos não tem muita relevância para a análise, para chegar no número de 50% alem da quantidade de nulos foi levado em consideração a relevância da coluna para a solução."
   ]
  },
  {
   "cell_type": "code",
   "execution_count": 16,
   "metadata": {},
   "outputs": [
    {
     "name": "stdout",
     "output_type": "stream",
     "text": [
      "Existem 126 São elas ['vl_total_tancagem', 'vl_total_veiculos_antt', 'vl_total_veiculos_leves', 'vl_total_veiculos_pesados', 'qt_art', 'vl_total_tancagem_grupo', 'vl_total_veiculos_antt_grupo', 'vl_potenc_cons_oleo_gas', 'de_indicador_telefone', 'vl_frota', 'qt_socios_st_suspensa', 'qt_socios_masculino', 'qt_socios_feminino', 'qt_socios_pep', 'qt_socios_pj_ativos', 'qt_socios_pj_nulos', 'qt_socios_pj_baixados', 'qt_socios_pj_suspensos', 'qt_socios_pj_inaptos', 'vl_idade_media_socios_pj', 'vl_idade_maxima_socios_pj', 'vl_idade_minima_socios_pj', 'qt_coligados', 'qt_socios_coligados', 'qt_coligados_matriz', 'qt_coligados_ativo', 'qt_coligados_baixada', 'qt_coligados_inapta', 'qt_coligados_suspensa', 'qt_coligados_nula', 'idade_media_coligadas', 'idade_maxima_coligadas', 'idade_minima_coligadas', 'coligada_mais_nova_ativa', 'coligada_mais_antiga_ativa', 'idade_media_coligadas_ativas', 'coligada_mais_nova_baixada', 'coligada_mais_antiga_baixada', 'idade_media_coligadas_baixadas', 'qt_coligados_sa', 'qt_coligados_me', 'qt_coligados_mei', 'qt_coligados_ltda', 'qt_coligados_epp', 'qt_coligados_norte', 'qt_coligados_sul', 'qt_coligados_nordeste', 'qt_coligados_centro', 'qt_coligados_sudeste', 'qt_coligados_exterior', 'qt_ufs_coligados', 'qt_regioes_coligados', 'qt_ramos_coligados', 'qt_coligados_industria', 'qt_coligados_agropecuaria', 'qt_coligados_comercio', 'qt_coligados_serviço', 'qt_coligados_ccivil', 'qt_funcionarios_coligados', 'qt_funcionarios_coligados_gp', 'media_funcionarios_coligados_gp', 'max_funcionarios_coligados_gp', 'min_funcionarios_coligados_gp', 'vl_folha_coligados', 'media_vl_folha_coligados', 'max_vl_folha_coligados', 'min_vl_folha_coligados', 'vl_folha_coligados_gp', 'media_vl_folha_coligados_gp', 'max_vl_folha_coligados_gp', 'min_vl_folha_coligados_gp', 'faturamento_est_coligados', 'media_faturamento_est_coligados', 'max_faturamento_est_coligados', 'min_faturamento_est_coligados', 'faturamento_est_coligados_gp', 'media_faturamento_est_coligados_gp', 'max_faturamento_est_coligados_gp', 'min_faturamento_est_coligados_gp', 'total_filiais_coligados', 'media_filiais_coligados', 'max_filiais_coligados', 'min_filiais_coligados', 'qt_coligados_atividade_alto', 'qt_coligados_atividade_medio', 'qt_coligados_atividade_baixo', 'qt_coligados_atividade_mt_baixo', 'qt_coligados_atividade_inativo', 'qt_coligadas', 'sum_faturamento_estimado_coligadas', 'qt_ex_funcionarios', 'qt_funcionarios_grupo', 'percent_func_genero_masc', 'percent_func_genero_fem', 'idade_ate_18', 'idade_de_19_a_23', 'idade_de_24_a_28', 'idade_de_29_a_33', 'idade_de_34_a_38', 'idade_de_39_a_43', 'idade_de_44_a_48', 'idade_de_49_a_53', 'idade_de_54_a_58', 'idade_acima_de_58', 'grau_instrucao_macro_analfabeto', 'grau_instrucao_macro_escolaridade_fundamental', 'grau_instrucao_macro_escolaridade_media', 'grau_instrucao_macro_escolaridade_superior', 'total', 'meses_ultima_contratacaco', 'qt_admitidos_12meses', 'qt_desligados_12meses', 'qt_desligados', 'qt_admitidos', 'media_meses_servicos_all', 'max_meses_servicos_all', 'min_meses_servicos_all', 'media_meses_servicos', 'max_meses_servicos', 'min_meses_servicos', 'qt_funcionarios', 'qt_funcionarios_12meses', 'qt_funcionarios_24meses', 'tx_crescimento_12meses', 'tx_crescimento_24meses', 'tx_rotatividade']\n"
     ]
    }
   ],
   "source": [
    "colunas_nulas_perc = (df.isna().sum()/df.shape[0]*100) > 50.0 \n",
    "colunas_nulas_perc = colunas_nulas_perc[colunas_nulas_perc.isin([True])]\n",
    "len(list(colunas_nulas_perc.index))\n",
    "lista_colunas_nulas_perc = list(colunas_nulas_perc.index)\n",
    "qtd_lista_colunas_nulas_perc = len(list(colunas_nulas_perc.index))\n",
    "print('Existem', qtd_lista_colunas_nulas_perc, 'São elas', lista_colunas_nulas_perc)"
   ]
  },
  {
   "cell_type": "code",
   "execution_count": 17,
   "metadata": {},
   "outputs": [
    {
     "name": "stdout",
     "output_type": "stream",
     "text": [
      "O novo shape é (462298, 51)\n"
     ]
    }
   ],
   "source": [
    "# Eliminando as colunas com observações nulas em mais de 50%\n",
    "df.drop(columns=lista_colunas_nulas_perc, inplace=True)\n",
    "print('O novo shape é', df.shape)"
   ]
  },
  {
   "cell_type": "markdown",
   "metadata": {},
   "source": [
    "##### Verificar as colunas nulas restantes, e analisar a relevância"
   ]
  },
  {
   "cell_type": "code",
   "execution_count": 18,
   "metadata": {},
   "outputs": [
    {
     "data": {
      "text/plain": [
       "qt_socios_st_regular                     0.335102\n",
       "idade_minima_socios                      0.327931\n",
       "idade_maxima_socios                      0.327931\n",
       "idade_media_socios                       0.327931\n",
       "empsetorcensitariofaixarendapopulacao    0.311118\n",
       "qt_socios_pj                             0.248954\n",
       "qt_socios_pf                             0.248954\n",
       "qt_socios                                0.248954\n",
       "fl_optante_simei                         0.178917\n",
       "fl_optante_simples                       0.178917\n",
       "nm_micro_regiao                          0.126970\n",
       "nm_meso_regiao                           0.126970\n",
       "nu_meses_rescencia                       0.097937\n",
       "de_faixa_faturamento_estimado            0.059514\n",
       "vl_faturamento_estimado_grupo_aux        0.059514\n",
       "de_faixa_faturamento_estimado_grupo      0.059514\n",
       "vl_faturamento_estimado_aux              0.059514\n",
       "de_saude_rescencia                       0.032124\n",
       "de_saude_tributaria                      0.032124\n",
       "de_nivel_atividade                       0.024158\n",
       "sg_uf_matriz                             0.004194\n",
       "fl_veiculo                               0.004168\n",
       "setor                                    0.004168\n",
       "nm_divisao                               0.004168\n",
       "fl_spa                                   0.004168\n",
       "fl_antt                                  0.004168\n",
       "nm_segmento                              0.004168\n",
       "fl_passivel_iss                          0.004168\n",
       "vl_total_veiculos_pesados_grupo          0.004168\n",
       "vl_total_veiculos_leves_grupo            0.004168\n",
       "fl_simples_irregular                     0.004168\n",
       "dt_situacao                              0.000013\n",
       "idade_emp_cat                            0.000000\n",
       "id                                       0.000000\n",
       "fl_matriz                                0.000000\n",
       "de_natureza_juridica                     0.000000\n",
       "sg_uf                                    0.000000\n",
       "natureza_juridica_macro                  0.000000\n",
       "de_ramo                                  0.000000\n",
       "idade_empresa_anos                       0.000000\n",
       "qt_filiais                               0.000000\n",
       "fl_me                                    0.000000\n",
       "fl_sa                                    0.000000\n",
       "fl_epp                                   0.000000\n",
       "fl_mei                                   0.000000\n",
       "fl_ltda                                  0.000000\n",
       "fl_st_especial                           0.000000\n",
       "fl_email                                 0.000000\n",
       "fl_telefone                              0.000000\n",
       "fl_rm                                    0.000000\n",
       "Unnamed: 0                               0.000000\n",
       "dtype: float64"
      ]
     },
     "execution_count": 18,
     "metadata": {},
     "output_type": "execute_result"
    }
   ],
   "source": [
    "(df.isna().sum()/df.shape[0]).sort_values(ascending=False)"
   ]
  },
  {
   "cell_type": "markdown",
   "metadata": {},
   "source": [
    "##### Analise das colunas restantes, para verificar a possibilidade de eliminar mais alguma coluna irrelevante para a solução."
   ]
  },
  {
   "cell_type": "code",
   "execution_count": 19,
   "metadata": {},
   "outputs": [],
   "source": [
    "colunas_drop = ['Unnamed: 0','fl_email','fl_telefone','qt_socios_st_regular','qt_socios_pj',\n",
    "                'qt_socios_pf','fl_simples_irregular','fl_optante_simei','fl_optante_simples']"
   ]
  },
  {
   "cell_type": "markdown",
   "metadata": {},
   "source": [
    "**Unnamed**: 0: numeração das observações\n",
    "\n",
    "**fl_email**: boolean value, true if the cnpj has an email registered at the IRF database. \n",
    "\n",
    "**fl_telefone**: boolean value, true if the company has a phone number registered in IRS database.\n",
    "\n",
    "**qt_socios_st_regular**: integer value, quantity of partners with regular situation under IRS - Receita Federal\n",
    "\n",
    "**qt_socios_pj**:  integer value, quantity of partners/shareholders of the cnpj that are companies\n",
    "\n",
    "**qt_socios_pf**: integer value, quantity of partners/shareholders of the cnpj that are persons\n",
    "\n",
    "**fl_simples_irregular**: boolean, true if the company is taxed under the SIMPLES regime and has a impeditive CNAE (economic activities that are not allowed to be taxed according to the simples regime) revenue above the limit of the regime.\n",
    "\n",
    "**fl_optante_simei**: boolean, true if the company is taxed as an MEI - Individual Micro Entrepreneur (Micro Empreendedor Individual)\n",
    "\n",
    "**fl_optante_simples**: boolean, true if the company is taxed according to SIMPLES regime"
   ]
  },
  {
   "cell_type": "code",
   "execution_count": 20,
   "metadata": {},
   "outputs": [
    {
     "name": "stdout",
     "output_type": "stream",
     "text": [
      "O novo shape é (462298, 42)\n"
     ]
    }
   ],
   "source": [
    "# Eliminando colunas julgadas irrelevantes\n",
    "df.drop(columns=colunas_drop, inplace=True)\n",
    "print('O novo shape é', df.shape)"
   ]
  },
  {
   "cell_type": "code",
   "execution_count": 21,
   "metadata": {},
   "outputs": [
    {
     "name": "stdout",
     "output_type": "stream",
     "text": [
      "<class 'pandas.core.frame.DataFrame'>\n",
      "RangeIndex: 462298 entries, 0 to 462297\n",
      "Data columns (total 42 columns):\n",
      " #   Column                                 Non-Null Count   Dtype  \n",
      "---  ------                                 --------------   -----  \n",
      " 0   id                                     462298 non-null  object \n",
      " 1   fl_matriz                              462298 non-null  bool   \n",
      " 2   de_natureza_juridica                   462298 non-null  object \n",
      " 3   sg_uf                                  462298 non-null  object \n",
      " 4   natureza_juridica_macro                462298 non-null  object \n",
      " 5   de_ramo                                462298 non-null  object \n",
      " 6   setor                                  460371 non-null  object \n",
      " 7   idade_empresa_anos                     462298 non-null  float16\n",
      " 8   idade_emp_cat                          462298 non-null  object \n",
      " 9   fl_me                                  462298 non-null  bool   \n",
      " 10  fl_sa                                  462298 non-null  bool   \n",
      " 11  fl_epp                                 462298 non-null  bool   \n",
      " 12  fl_mei                                 462298 non-null  bool   \n",
      " 13  fl_ltda                                462298 non-null  bool   \n",
      " 14  dt_situacao                            462292 non-null  object \n",
      " 15  fl_st_especial                         462298 non-null  bool   \n",
      " 16  fl_rm                                  462298 non-null  object \n",
      " 17  nm_divisao                             460371 non-null  object \n",
      " 18  nm_segmento                            460371 non-null  object \n",
      " 19  fl_spa                                 460371 non-null  object \n",
      " 20  fl_antt                                460371 non-null  object \n",
      " 21  fl_veiculo                             460371 non-null  object \n",
      " 22  vl_total_veiculos_pesados_grupo        460371 non-null  float64\n",
      " 23  vl_total_veiculos_leves_grupo          460371 non-null  float64\n",
      " 24  sg_uf_matriz                           460359 non-null  object \n",
      " 25  de_saude_tributaria                    447447 non-null  object \n",
      " 26  de_saude_rescencia                     447447 non-null  object \n",
      " 27  nu_meses_rescencia                     417022 non-null  float64\n",
      " 28  de_nivel_atividade                     451130 non-null  object \n",
      " 29  empsetorcensitariofaixarendapopulacao  318469 non-null  float64\n",
      " 30  nm_meso_regiao                         403600 non-null  object \n",
      " 31  nm_micro_regiao                        403600 non-null  object \n",
      " 32  fl_passivel_iss                        460371 non-null  object \n",
      " 33  qt_socios                              347207 non-null  float64\n",
      " 34  idade_media_socios                     310696 non-null  float64\n",
      " 35  idade_maxima_socios                    310696 non-null  float64\n",
      " 36  idade_minima_socios                    310696 non-null  float64\n",
      " 37  de_faixa_faturamento_estimado          434785 non-null  object \n",
      " 38  de_faixa_faturamento_estimado_grupo    434785 non-null  object \n",
      " 39  vl_faturamento_estimado_aux            434785 non-null  float64\n",
      " 40  vl_faturamento_estimado_grupo_aux      434785 non-null  float64\n",
      " 41  qt_filiais                             462298 non-null  int16  \n",
      "dtypes: bool(7), float16(1), float64(10), int16(1), object(23)\n",
      "memory usage: 80.7+ MB\n"
     ]
    }
   ],
   "source": [
    "df.info()"
   ]
  },
  {
   "cell_type": "markdown",
   "metadata": {},
   "source": [
    "##### Criando um novo dataset, substituindo a media nas colunas numéricas e dropando os dados nulos da demais colunas para análise"
   ]
  },
  {
   "cell_type": "code",
   "execution_count": 22,
   "metadata": {},
   "outputs": [],
   "source": [
    "#df_nao_nulos = df.fillna(df.mean())"
   ]
  },
  {
   "cell_type": "code",
   "execution_count": 23,
   "metadata": {},
   "outputs": [
    {
     "name": "stdout",
     "output_type": "stream",
     "text": [
      "O novo shape é (173463, 42)\n"
     ]
    }
   ],
   "source": [
    "df_nao_nulos = df.dropna()\n",
    "print('O novo shape é', df_nao_nulos.shape)"
   ]
  },
  {
   "cell_type": "markdown",
   "metadata": {},
   "source": [
    "### Exploração de Dados"
   ]
  },
  {
   "cell_type": "markdown",
   "metadata": {},
   "source": [
    "##### Ajustando todos os dados para numéricos"
   ]
  },
  {
   "cell_type": "code",
   "execution_count": 24,
   "metadata": {},
   "outputs": [],
   "source": [
    "# Selecionando as colunas tipo boleanas\n",
    "colunas_bool = list(df_nao_nulos.select_dtypes(include='bool').columns)"
   ]
  },
  {
   "cell_type": "code",
   "execution_count": 25,
   "metadata": {},
   "outputs": [],
   "source": [
    "df_nao_nulos = pd.get_dummies(df_nao_nulos, columns=colunas_bool)"
   ]
  },
  {
   "cell_type": "code",
   "execution_count": 26,
   "metadata": {},
   "outputs": [],
   "source": [
    "# Para as demais colunas vamos usar o LabelEncoder\n",
    "colunas_object = list(df_nao_nulos.select_dtypes(include='object').columns)\n",
    "colunas_object.remove('id')\n",
    "encoder = LabelEncoder()\n",
    "for label in colunas_object:\n",
    "    label_coluna = 'cod_' + label\n",
    "    df_nao_nulos[label_coluna] = encoder.fit_transform(df_nao_nulos[label])"
   ]
  },
  {
   "cell_type": "code",
   "execution_count": 27,
   "metadata": {},
   "outputs": [],
   "source": [
    "# Selecionando apenas as colunas numéricas\n",
    "colunas_number = list(df_nao_nulos.select_dtypes(include='number').columns)\n",
    "base = df_nao_nulos[colunas_number]"
   ]
  },
  {
   "cell_type": "code",
   "execution_count": 28,
   "metadata": {},
   "outputs": [
    {
     "name": "stdout",
     "output_type": "stream",
     "text": [
      "<class 'pandas.core.frame.DataFrame'>\n",
      "Int64Index: 173463 entries, 1 to 462295\n",
      "Data columns (total 47 columns):\n",
      " #   Column                                   Non-Null Count   Dtype  \n",
      "---  ------                                   --------------   -----  \n",
      " 0   idade_empresa_anos                       173463 non-null  float16\n",
      " 1   vl_total_veiculos_pesados_grupo          173463 non-null  float64\n",
      " 2   vl_total_veiculos_leves_grupo            173463 non-null  float64\n",
      " 3   nu_meses_rescencia                       173463 non-null  float64\n",
      " 4   empsetorcensitariofaixarendapopulacao    173463 non-null  float64\n",
      " 5   qt_socios                                173463 non-null  float64\n",
      " 6   idade_media_socios                       173463 non-null  float64\n",
      " 7   idade_maxima_socios                      173463 non-null  float64\n",
      " 8   idade_minima_socios                      173463 non-null  float64\n",
      " 9   vl_faturamento_estimado_aux              173463 non-null  float64\n",
      " 10  vl_faturamento_estimado_grupo_aux        173463 non-null  float64\n",
      " 11  qt_filiais                               173463 non-null  int16  \n",
      " 12  fl_matriz_False                          173463 non-null  uint8  \n",
      " 13  fl_matriz_True                           173463 non-null  uint8  \n",
      " 14  fl_me_False                              173463 non-null  uint8  \n",
      " 15  fl_me_True                               173463 non-null  uint8  \n",
      " 16  fl_sa_False                              173463 non-null  uint8  \n",
      " 17  fl_sa_True                               173463 non-null  uint8  \n",
      " 18  fl_epp_False                             173463 non-null  uint8  \n",
      " 19  fl_mei_False                             173463 non-null  uint8  \n",
      " 20  fl_mei_True                              173463 non-null  uint8  \n",
      " 21  fl_ltda_False                            173463 non-null  uint8  \n",
      " 22  fl_ltda_True                             173463 non-null  uint8  \n",
      " 23  fl_st_especial_False                     173463 non-null  uint8  \n",
      " 24  fl_st_especial_True                      173463 non-null  uint8  \n",
      " 25  cod_de_natureza_juridica                 173463 non-null  int32  \n",
      " 26  cod_sg_uf                                173463 non-null  int32  \n",
      " 27  cod_natureza_juridica_macro              173463 non-null  int32  \n",
      " 28  cod_de_ramo                              173463 non-null  int32  \n",
      " 29  cod_setor                                173463 non-null  int32  \n",
      " 30  cod_idade_emp_cat                        173463 non-null  int32  \n",
      " 31  cod_dt_situacao                          173463 non-null  int32  \n",
      " 32  cod_fl_rm                                173463 non-null  int32  \n",
      " 33  cod_nm_divisao                           173463 non-null  int32  \n",
      " 34  cod_nm_segmento                          173463 non-null  int32  \n",
      " 35  cod_fl_spa                               173463 non-null  int32  \n",
      " 36  cod_fl_antt                              173463 non-null  int32  \n",
      " 37  cod_fl_veiculo                           173463 non-null  int32  \n",
      " 38  cod_sg_uf_matriz                         173463 non-null  int32  \n",
      " 39  cod_de_saude_tributaria                  173463 non-null  int32  \n",
      " 40  cod_de_saude_rescencia                   173463 non-null  int32  \n",
      " 41  cod_de_nivel_atividade                   173463 non-null  int32  \n",
      " 42  cod_nm_meso_regiao                       173463 non-null  int32  \n",
      " 43  cod_nm_micro_regiao                      173463 non-null  int32  \n",
      " 44  cod_fl_passivel_iss                      173463 non-null  int32  \n",
      " 45  cod_de_faixa_faturamento_estimado        173463 non-null  int32  \n",
      " 46  cod_de_faixa_faturamento_estimado_grupo  173463 non-null  int32  \n",
      "dtypes: float16(1), float64(10), int16(1), int32(22), uint8(13)\n",
      "memory usage: 31.9 MB\n"
     ]
    }
   ],
   "source": [
    "base.info()"
   ]
  },
  {
   "cell_type": "code",
   "execution_count": 29,
   "metadata": {},
   "outputs": [
    {
     "data": {
      "text/html": [
       "<div>\n",
       "<style scoped>\n",
       "    .dataframe tbody tr th:only-of-type {\n",
       "        vertical-align: middle;\n",
       "    }\n",
       "\n",
       "    .dataframe tbody tr th {\n",
       "        vertical-align: top;\n",
       "    }\n",
       "\n",
       "    .dataframe thead th {\n",
       "        text-align: right;\n",
       "    }\n",
       "</style>\n",
       "<table border=\"1\" class=\"dataframe\">\n",
       "  <thead>\n",
       "    <tr style=\"text-align: right;\">\n",
       "      <th></th>\n",
       "      <th>idade_empresa_anos</th>\n",
       "      <th>vl_total_veiculos_pesados_grupo</th>\n",
       "      <th>vl_total_veiculos_leves_grupo</th>\n",
       "      <th>nu_meses_rescencia</th>\n",
       "      <th>empsetorcensitariofaixarendapopulacao</th>\n",
       "      <th>qt_socios</th>\n",
       "      <th>idade_media_socios</th>\n",
       "      <th>idade_maxima_socios</th>\n",
       "      <th>idade_minima_socios</th>\n",
       "      <th>vl_faturamento_estimado_aux</th>\n",
       "      <th>...</th>\n",
       "      <th>cod_fl_veiculo</th>\n",
       "      <th>cod_sg_uf_matriz</th>\n",
       "      <th>cod_de_saude_tributaria</th>\n",
       "      <th>cod_de_saude_rescencia</th>\n",
       "      <th>cod_de_nivel_atividade</th>\n",
       "      <th>cod_nm_meso_regiao</th>\n",
       "      <th>cod_nm_micro_regiao</th>\n",
       "      <th>cod_fl_passivel_iss</th>\n",
       "      <th>cod_de_faixa_faturamento_estimado</th>\n",
       "      <th>cod_de_faixa_faturamento_estimado_grupo</th>\n",
       "    </tr>\n",
       "  </thead>\n",
       "  <tbody>\n",
       "    <tr>\n",
       "      <th>count</th>\n",
       "      <td>173463.000000</td>\n",
       "      <td>173463.000000</td>\n",
       "      <td>173463.000000</td>\n",
       "      <td>173463.000000</td>\n",
       "      <td>173463.000000</td>\n",
       "      <td>173463.000000</td>\n",
       "      <td>173463.000000</td>\n",
       "      <td>173463.000000</td>\n",
       "      <td>173463.000000</td>\n",
       "      <td>1.734630e+05</td>\n",
       "      <td>...</td>\n",
       "      <td>173463.000000</td>\n",
       "      <td>173463.000000</td>\n",
       "      <td>173463.000000</td>\n",
       "      <td>173463.000000</td>\n",
       "      <td>173463.000000</td>\n",
       "      <td>173463.000000</td>\n",
       "      <td>173463.000000</td>\n",
       "      <td>173463.000000</td>\n",
       "      <td>173463.000000</td>\n",
       "      <td>173463.000000</td>\n",
       "    </tr>\n",
       "    <tr>\n",
       "      <th>mean</th>\n",
       "      <td>NaN</td>\n",
       "      <td>7.500424</td>\n",
       "      <td>108.122038</td>\n",
       "      <td>24.599442</td>\n",
       "      <td>1331.244931</td>\n",
       "      <td>1.658786</td>\n",
       "      <td>43.510077</td>\n",
       "      <td>45.245845</td>\n",
       "      <td>41.855375</td>\n",
       "      <td>7.944860e+05</td>\n",
       "      <td>...</td>\n",
       "      <td>0.074471</td>\n",
       "      <td>11.405072</td>\n",
       "      <td>2.428841</td>\n",
       "      <td>0.099387</td>\n",
       "      <td>1.026305</td>\n",
       "      <td>6.867055</td>\n",
       "      <td>36.903490</td>\n",
       "      <td>0.592103</td>\n",
       "      <td>5.983449</td>\n",
       "      <td>5.634983</td>\n",
       "    </tr>\n",
       "    <tr>\n",
       "      <th>std</th>\n",
       "      <td>0.000000</td>\n",
       "      <td>105.225336</td>\n",
       "      <td>1791.154652</td>\n",
       "      <td>9.304771</td>\n",
       "      <td>1267.582221</td>\n",
       "      <td>4.207828</td>\n",
       "      <td>12.425598</td>\n",
       "      <td>13.869276</td>\n",
       "      <td>12.355991</td>\n",
       "      <td>1.395289e+07</td>\n",
       "      <td>...</td>\n",
       "      <td>0.262537</td>\n",
       "      <td>6.703392</td>\n",
       "      <td>1.663624</td>\n",
       "      <td>0.299201</td>\n",
       "      <td>0.939442</td>\n",
       "      <td>4.347381</td>\n",
       "      <td>21.513393</td>\n",
       "      <td>0.491445</td>\n",
       "      <td>4.192961</td>\n",
       "      <td>4.156485</td>\n",
       "    </tr>\n",
       "    <tr>\n",
       "      <th>min</th>\n",
       "      <td>0.802734</td>\n",
       "      <td>0.000000</td>\n",
       "      <td>0.000000</td>\n",
       "      <td>6.000000</td>\n",
       "      <td>100.000000</td>\n",
       "      <td>1.000000</td>\n",
       "      <td>-2.000000</td>\n",
       "      <td>-2.000000</td>\n",
       "      <td>-2.000000</td>\n",
       "      <td>0.000000e+00</td>\n",
       "      <td>...</td>\n",
       "      <td>0.000000</td>\n",
       "      <td>0.000000</td>\n",
       "      <td>0.000000</td>\n",
       "      <td>0.000000</td>\n",
       "      <td>0.000000</td>\n",
       "      <td>0.000000</td>\n",
       "      <td>0.000000</td>\n",
       "      <td>0.000000</td>\n",
       "      <td>0.000000</td>\n",
       "      <td>0.000000</td>\n",
       "    </tr>\n",
       "    <tr>\n",
       "      <th>25%</th>\n",
       "      <td>3.115234</td>\n",
       "      <td>0.000000</td>\n",
       "      <td>0.000000</td>\n",
       "      <td>22.000000</td>\n",
       "      <td>648.550000</td>\n",
       "      <td>1.000000</td>\n",
       "      <td>34.000000</td>\n",
       "      <td>35.000000</td>\n",
       "      <td>33.000000</td>\n",
       "      <td>5.000000e+04</td>\n",
       "      <td>...</td>\n",
       "      <td>0.000000</td>\n",
       "      <td>9.000000</td>\n",
       "      <td>1.000000</td>\n",
       "      <td>0.000000</td>\n",
       "      <td>0.000000</td>\n",
       "      <td>4.000000</td>\n",
       "      <td>20.000000</td>\n",
       "      <td>0.000000</td>\n",
       "      <td>1.000000</td>\n",
       "      <td>1.000000</td>\n",
       "    </tr>\n",
       "    <tr>\n",
       "      <th>50%</th>\n",
       "      <td>5.859375</td>\n",
       "      <td>0.000000</td>\n",
       "      <td>0.000000</td>\n",
       "      <td>23.000000</td>\n",
       "      <td>926.640000</td>\n",
       "      <td>1.000000</td>\n",
       "      <td>42.500000</td>\n",
       "      <td>44.000000</td>\n",
       "      <td>40.000000</td>\n",
       "      <td>2.100000e+05</td>\n",
       "      <td>...</td>\n",
       "      <td>0.000000</td>\n",
       "      <td>9.000000</td>\n",
       "      <td>3.000000</td>\n",
       "      <td>0.000000</td>\n",
       "      <td>1.000000</td>\n",
       "      <td>6.000000</td>\n",
       "      <td>43.000000</td>\n",
       "      <td>1.000000</td>\n",
       "      <td>7.000000</td>\n",
       "      <td>7.000000</td>\n",
       "    </tr>\n",
       "    <tr>\n",
       "      <th>75%</th>\n",
       "      <td>10.671875</td>\n",
       "      <td>0.000000</td>\n",
       "      <td>0.000000</td>\n",
       "      <td>25.000000</td>\n",
       "      <td>1502.270000</td>\n",
       "      <td>2.000000</td>\n",
       "      <td>52.000000</td>\n",
       "      <td>54.000000</td>\n",
       "      <td>50.000000</td>\n",
       "      <td>2.100000e+05</td>\n",
       "      <td>...</td>\n",
       "      <td>0.000000</td>\n",
       "      <td>19.000000</td>\n",
       "      <td>4.000000</td>\n",
       "      <td>0.000000</td>\n",
       "      <td>2.000000</td>\n",
       "      <td>10.000000</td>\n",
       "      <td>48.000000</td>\n",
       "      <td>1.000000</td>\n",
       "      <td>10.000000</td>\n",
       "      <td>10.000000</td>\n",
       "    </tr>\n",
       "    <tr>\n",
       "      <th>max</th>\n",
       "      <td>77.500000</td>\n",
       "      <td>3484.000000</td>\n",
       "      <td>122090.000000</td>\n",
       "      <td>66.000000</td>\n",
       "      <td>75093.840000</td>\n",
       "      <td>246.000000</td>\n",
       "      <td>121.000000</td>\n",
       "      <td>125.000000</td>\n",
       "      <td>121.000000</td>\n",
       "      <td>2.669847e+09</td>\n",
       "      <td>...</td>\n",
       "      <td>1.000000</td>\n",
       "      <td>26.000000</td>\n",
       "      <td>5.000000</td>\n",
       "      <td>2.000000</td>\n",
       "      <td>3.000000</td>\n",
       "      <td>18.000000</td>\n",
       "      <td>72.000000</td>\n",
       "      <td>1.000000</td>\n",
       "      <td>11.000000</td>\n",
       "      <td>10.000000</td>\n",
       "    </tr>\n",
       "  </tbody>\n",
       "</table>\n",
       "<p>8 rows × 47 columns</p>\n",
       "</div>"
      ],
      "text/plain": [
       "       idade_empresa_anos  vl_total_veiculos_pesados_grupo  \\\n",
       "count       173463.000000                    173463.000000   \n",
       "mean                  NaN                         7.500424   \n",
       "std              0.000000                       105.225336   \n",
       "min              0.802734                         0.000000   \n",
       "25%              3.115234                         0.000000   \n",
       "50%              5.859375                         0.000000   \n",
       "75%             10.671875                         0.000000   \n",
       "max             77.500000                      3484.000000   \n",
       "\n",
       "       vl_total_veiculos_leves_grupo  nu_meses_rescencia  \\\n",
       "count                  173463.000000       173463.000000   \n",
       "mean                      108.122038           24.599442   \n",
       "std                      1791.154652            9.304771   \n",
       "min                         0.000000            6.000000   \n",
       "25%                         0.000000           22.000000   \n",
       "50%                         0.000000           23.000000   \n",
       "75%                         0.000000           25.000000   \n",
       "max                    122090.000000           66.000000   \n",
       "\n",
       "       empsetorcensitariofaixarendapopulacao      qt_socios  \\\n",
       "count                          173463.000000  173463.000000   \n",
       "mean                             1331.244931       1.658786   \n",
       "std                              1267.582221       4.207828   \n",
       "min                               100.000000       1.000000   \n",
       "25%                               648.550000       1.000000   \n",
       "50%                               926.640000       1.000000   \n",
       "75%                              1502.270000       2.000000   \n",
       "max                             75093.840000     246.000000   \n",
       "\n",
       "       idade_media_socios  idade_maxima_socios  idade_minima_socios  \\\n",
       "count       173463.000000        173463.000000        173463.000000   \n",
       "mean            43.510077            45.245845            41.855375   \n",
       "std             12.425598            13.869276            12.355991   \n",
       "min             -2.000000            -2.000000            -2.000000   \n",
       "25%             34.000000            35.000000            33.000000   \n",
       "50%             42.500000            44.000000            40.000000   \n",
       "75%             52.000000            54.000000            50.000000   \n",
       "max            121.000000           125.000000           121.000000   \n",
       "\n",
       "       vl_faturamento_estimado_aux  ...  cod_fl_veiculo  cod_sg_uf_matriz  \\\n",
       "count                 1.734630e+05  ...   173463.000000     173463.000000   \n",
       "mean                  7.944860e+05  ...        0.074471         11.405072   \n",
       "std                   1.395289e+07  ...        0.262537          6.703392   \n",
       "min                   0.000000e+00  ...        0.000000          0.000000   \n",
       "25%                   5.000000e+04  ...        0.000000          9.000000   \n",
       "50%                   2.100000e+05  ...        0.000000          9.000000   \n",
       "75%                   2.100000e+05  ...        0.000000         19.000000   \n",
       "max                   2.669847e+09  ...        1.000000         26.000000   \n",
       "\n",
       "       cod_de_saude_tributaria  cod_de_saude_rescencia  \\\n",
       "count            173463.000000           173463.000000   \n",
       "mean                  2.428841                0.099387   \n",
       "std                   1.663624                0.299201   \n",
       "min                   0.000000                0.000000   \n",
       "25%                   1.000000                0.000000   \n",
       "50%                   3.000000                0.000000   \n",
       "75%                   4.000000                0.000000   \n",
       "max                   5.000000                2.000000   \n",
       "\n",
       "       cod_de_nivel_atividade  cod_nm_meso_regiao  cod_nm_micro_regiao  \\\n",
       "count           173463.000000       173463.000000        173463.000000   \n",
       "mean                 1.026305            6.867055            36.903490   \n",
       "std                  0.939442            4.347381            21.513393   \n",
       "min                  0.000000            0.000000             0.000000   \n",
       "25%                  0.000000            4.000000            20.000000   \n",
       "50%                  1.000000            6.000000            43.000000   \n",
       "75%                  2.000000           10.000000            48.000000   \n",
       "max                  3.000000           18.000000            72.000000   \n",
       "\n",
       "       cod_fl_passivel_iss  cod_de_faixa_faturamento_estimado  \\\n",
       "count        173463.000000                      173463.000000   \n",
       "mean              0.592103                           5.983449   \n",
       "std               0.491445                           4.192961   \n",
       "min               0.000000                           0.000000   \n",
       "25%               0.000000                           1.000000   \n",
       "50%               1.000000                           7.000000   \n",
       "75%               1.000000                          10.000000   \n",
       "max               1.000000                          11.000000   \n",
       "\n",
       "       cod_de_faixa_faturamento_estimado_grupo  \n",
       "count                            173463.000000  \n",
       "mean                                  5.634983  \n",
       "std                                   4.156485  \n",
       "min                                   0.000000  \n",
       "25%                                   1.000000  \n",
       "50%                                   7.000000  \n",
       "75%                                  10.000000  \n",
       "max                                  10.000000  \n",
       "\n",
       "[8 rows x 47 columns]"
      ]
     },
     "execution_count": 29,
     "metadata": {},
     "output_type": "execute_result"
    }
   ],
   "source": [
    "base.describe()"
   ]
  },
  {
   "cell_type": "code",
   "execution_count": 30,
   "metadata": {},
   "outputs": [],
   "source": [
    "X = base.values"
   ]
  },
  {
   "cell_type": "markdown",
   "metadata": {},
   "source": [
    "### Modelo Machine Learning"
   ]
  },
  {
   "cell_type": "code",
   "execution_count": 31,
   "metadata": {},
   "outputs": [
    {
     "data": {
      "text/plain": [
       "KMeans(algorithm='auto', copy_x=True, init='random', max_iter=300, n_clusters=2,\n",
       "       n_init=10, n_jobs=None, precompute_distances='auto', random_state=None,\n",
       "       tol=0.0001, verbose=0)"
      ]
     },
     "execution_count": 31,
     "metadata": {},
     "output_type": "execute_result"
    }
   ],
   "source": [
    "kmeans = KMeans(n_clusters = 2, init = 'random')\n",
    "kmeans.fit(X)"
   ]
  },
  {
   "cell_type": "code",
   "execution_count": 32,
   "metadata": {},
   "outputs": [
    {
     "data": {
      "text/plain": [
       "array([[ 1.78418701e+01,  1.32524356e+03,  8.56852693e+03,\n",
       "         2.55737705e+01,  1.23607061e+03,  7.22599532e+01,\n",
       "         5.08032831e+01,  6.67400468e+01,  3.83419204e+01,\n",
       "         5.20328075e+06,  1.97959551e+11,  8.36937237e+03,\n",
       "         1.00000000e+00,  4.55191440e-15,  1.00000000e+00,\n",
       "        -1.73472348e-18,  2.10772834e-02,  9.78922717e-01,\n",
       "         1.00000000e+00,  1.00000000e+00,  4.27435864e-15,\n",
       "         1.00000000e+00, -6.93889390e-18,  1.00000000e+00,\n",
       "        -7.58941521e-19,  1.18220141e+01,  2.40281030e+00,\n",
       "        -8.65973959e-15,  2.47564403e+01,  3.97892272e+00,\n",
       "         2.88290398e+00,  2.45610539e+03,  3.13817330e-01,\n",
       "         1.84379391e+01,  6.16627635e+00,  2.34192037e-03,\n",
       "         5.89805982e-17,  1.40515222e-02,  1.79110070e+01,\n",
       "         3.93208431e+00, -6.24500451e-16,  5.08196721e-01,\n",
       "         7.53864169e+00,  3.61569087e+01,  9.78922717e-01,\n",
       "         6.72599532e+00,  5.59552404e-14],\n",
       "       [ 8.71299895e+00,  4.24863612e+00,  8.72443422e+01,\n",
       "         2.45970376e+01,  1.33147979e+03,  1.48456391e+00,\n",
       "         4.34920796e+01,  4.51928038e+01,  4.18640456e+01,\n",
       "         7.83606398e+05,  1.94194198e+08,  4.22038766e+01,\n",
       "         8.26186458e-02,  9.17381354e-01,  9.97312698e-01,\n",
       "         2.68730206e-03,  9.84471439e-01,  1.55285605e-02,\n",
       "         1.00000000e+00,  5.42852354e-01,  4.57147646e-01,\n",
       "         9.96093299e-01,  3.90670150e-03,  9.99855521e-01,\n",
       "         1.44478606e-04,  8.69104695e+00,  2.43745810e+00,\n",
       "         1.32259761e+00,  1.26394681e+01,  2.43733096e+00,\n",
       "         1.72609746e+00,  3.68389991e+03,  5.75909059e-01,\n",
       "         3.59322569e+01,  1.02838542e+01,  1.19628285e-03,\n",
       "         8.37975913e-03,  7.46203102e-02,  1.13890173e+01,\n",
       "         2.42513119e+00,  9.96324464e-02,  1.02758386e+00,\n",
       "         6.86539795e+00,  3.69053318e+01,  5.91148663e-01,\n",
       "         5.98161654e+00,  5.64888809e+00]])"
      ]
     },
     "execution_count": 32,
     "metadata": {},
     "output_type": "execute_result"
    }
   ],
   "source": [
    "kmeans.cluster_centers_"
   ]
  },
  {
   "cell_type": "code",
   "execution_count": 33,
   "metadata": {},
   "outputs": [
    {
     "data": {
      "text/plain": [
       "array([[1.93985046e+08, 1.97959341e+11],\n",
       "       [1.94145584e+08, 1.97959501e+11],\n",
       "       [1.93985046e+08, 1.97959341e+11],\n",
       "       ...,\n",
       "       [1.94071682e+08, 1.97959427e+11],\n",
       "       [1.94145584e+08, 1.97959501e+11],\n",
       "       [1.93985046e+08, 1.97959341e+11]])"
      ]
     },
     "execution_count": 33,
     "metadata": {},
     "output_type": "execute_result"
    }
   ],
   "source": [
    "distance = kmeans.fit_transform(X)\n",
    "distance"
   ]
  },
  {
   "cell_type": "code",
   "execution_count": 34,
   "metadata": {},
   "outputs": [
    {
     "data": {
      "text/plain": [
       "array([0, 0, 0, ..., 0, 0, 0])"
      ]
     },
     "execution_count": 34,
     "metadata": {},
     "output_type": "execute_result"
    }
   ],
   "source": [
    "labels = kmeans.labels_\n",
    "labels"
   ]
  },
  {
   "cell_type": "code",
   "execution_count": 36,
   "metadata": {},
   "outputs": [
    {
     "name": "stdout",
     "output_type": "stream",
     "text": [
      "1 1.839743513476586e+25\n",
      "2 1.738090114434736e+24\n",
      "3 4.1876614316486854e+23\n",
      "4 3.613751405807723e+23\n",
      "5 3.409340988979365e+23\n",
      "6 3.3926569533492894e+23\n",
      "7 3.385537631680104e+23\n",
      "8 1.3149081969557897e+23\n",
      "9 3.332065347094293e+23\n",
      "10 3.331665265221249e+23\n"
     ]
    },
    {
     "data": {
      "image/png": "[encoded data removed]",
      "text/plain": [
       "<Figure size 432x288 with 1 Axes>"
      ]
     },
     "metadata": {
      "needs_background": "light"
     },
     "output_type": "display_data"
    }
   ],
   "source": [
    "wcss = []\n",
    " \n",
    "for i in range(1, 11):\n",
    "    kmeans = KMeans(n_clusters = i, init = 'random')\n",
    "    kmeans.fit(X)\n",
    "    print (i, kmeans.inertia_)\n",
    "    wcss.append(kmeans.inertia_)  \n",
    "plt.plot(range(1, 11), wcss)\n",
    "plt.title('O Metodo Elbow')\n",
    "plt.xlabel('Numero de Clusters')\n",
    "plt.ylabel('WSS') #within cluster sum of squares\n",
    "plt.show()"
   ]
  },
  {
   "cell_type": "markdown",
   "metadata": {},
   "source": [
    "O gráfico mostra o somatório da variância dos dados em relação ao número de clusters para conseguir verificar até que ponto com o aumento do número de clusters não existe ganho.\n",
    "\n",
    "Observe que a partir do número de 2 clusters as distâncias dos erros quadráticos praticamente se estabiliza.\n",
    "\n",
    "A partir desse ponto que não existe uma discrepância tão significativa em termos de variância."
   ]
  },
  {
   "cell_type": "code",
   "execution_count": null,
   "metadata": {},
   "outputs": [],
   "source": []
  }
 ],
 "metadata": {
  "kernelspec": {
   "display_name": "Python 3",
   "language": "python",
   "name": "python3"
  },
  "language_info": {
   "codemirror_mode": {
    "name": "ipython",
    "version": 3
   },
   "file_extension": ".py",
   "mimetype": "text/x-python",
   "name": "python",
   "nbconvert_exporter": "python",
   "pygments_lexer": "ipython3",
   "version": "3.7.4"
  }
 },
 "nbformat": 4,
 "nbformat_minor": 4
}
